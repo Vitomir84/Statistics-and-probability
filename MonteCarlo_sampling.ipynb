{
 "cells": [
  {
   "cell_type": "markdown",
   "id": "cab123e2",
   "metadata": {},
   "source": [
    "We want to know average sum of rolling 12 six sided dice."
   ]
  },
  {
   "cell_type": "code",
   "execution_count": 2,
   "id": "1fb06efc",
   "metadata": {},
   "outputs": [],
   "source": [
    "import numpy as np"
   ]
  },
  {
   "cell_type": "code",
   "execution_count": 48,
   "id": "180712b6",
   "metadata": {},
   "outputs": [],
   "source": [
    "monte_carlo_trial = 10000\n",
    "number_of_dice = 12\n",
    "estimation = []\n",
    "for i in range(monte_carlo_trial):\n",
    "    suma = []\n",
    "    np.random.seed(i)\n",
    "    for j in range(number_of_dice):\n",
    "        dice = np.random.choice([1,2,3,4,5,6])\n",
    "        suma.append(dice)\n",
    "    suma_12_dice = np.sum(suma)\n",
    "    estimation.append(suma_12_dice)"
   ]
  },
  {
   "cell_type": "code",
   "execution_count": 51,
   "id": "6902c590",
   "metadata": {},
   "outputs": [
    {
     "data": {
      "text/plain": [
       "5.833948507657571"
      ]
     },
     "execution_count": 51,
     "metadata": {},
     "output_type": "execute_result"
    }
   ],
   "source": [
    "np.std(estimation)"
   ]
  },
  {
   "cell_type": "code",
   "execution_count": 60,
   "id": "fefbbe17",
   "metadata": {},
   "outputs": [
    {
     "data": {
      "image/png": "[encoded data removed]",
      "text/plain": [
       "<Figure size 288x288 with 1 Axes>"
      ]
     },
     "metadata": {
      "needs_background": "light"
     },
     "output_type": "display_data"
    }
   ],
   "source": [
    "import matplotlib.pyplot as plt\n",
    "plt.figure(figsize=(4,4))\n",
    "plt.hist(estimation, bins=40, label=f'Estimation of the sum {round(np.mean(estimation), 2)}')\n",
    "plt.axvline(round(np.mean(estimation), 2), c='r')\n",
    "plt.legend()\n",
    "plt.title(f\"Small example of Monte Carlo sampling \");"
   ]
  }
 ],
 "metadata": {
  "kernelspec": {
   "display_name": "Python 3",
   "language": "python",
   "name": "python3"
  },
  "language_info": {
   "codemirror_mode": {
    "name": "ipython",
    "version": 3
   },
   "file_extension": ".py",
   "mimetype": "text/x-python",
   "name": "python",
   "nbconvert_exporter": "python",
   "pygments_lexer": "ipython3",
   "version": "3.8.5"
  }
 },
 "nbformat": 4,
 "nbformat_minor": 5
}
