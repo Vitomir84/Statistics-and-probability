{
 "cells": [
  {
   "cell_type": "markdown",
   "id": "103618c0",
   "metadata": {},
   "source": [
    "### Bayes Theorem\n",
    "\n",
    "Bayes Theorem describes the probability of an event, based on prior knowledge of conditions that might be related to the event. One of the many applications of Bayes' theorem is Bayesian inference, a particular approach to statistical inference. When applied, the probabilities involved in the theorem may have different probability interpretations. With Bayesian probability interpretation, the theorem expresses how a degree of belief, expressed as a probability, should rationally change to account for the availability of related evidence. "
   ]
  },
  {
   "cell_type": "markdown",
   "id": "d89a3bf0",
   "metadata": {},
   "source": [
    "Let's see first the more simple problem. "
   ]
  },
  {
   "cell_type": "markdown",
   "id": "ed336c90",
   "metadata": {},
   "source": [
    "If two events are independent, i.e. if the occurrence of one event (A) is in no way related to the occurrence of another event (B) then the probability of both events occurring:\n",
    "\n",
    "$$\n",
    "P (A, B) = P (A) x P (B)\n",
    "$$\n",
    "\n",
    "For example, the probability of a head falling both times in a row is 0.25 (0.5 * 0.5), as well as that a family with two children has two daughters.\n",
    "\n",
    "If the events are dependent, then the probability of A occurring if B occurred is equal\n",
    "\n",
    "$$\n",
    "P (A|B) = \\frac{P(A, B)}{P(B)} \n",
    "$$\n",
    "\n",
    "this is often rewritten and calculated as the following equation:\n",
    "\n",
    "$$\n",
    "P (A, B) = P(A|B) x P(B) \n",
    "$$\n",
    "\n",
    "which actually means - what is the probability that both A and B will happen if we know what the probability is that A will happen when B happened (conditional probability) (P(A|B)) and  and if we know what the probability is that B will happen (P(B)).\n",
    "\n",
    "For example, imagine that we want to determine the probability of a rainbow occurring. Rainbow occurs with a probability of 0.3 when it rains (P (A | B)), and the probability of rain is 0.2 (P (B)). The probability of rain and a rainbow is\n",
    "\n",
    "$$\n",
    "P (A, B) = 0.3 x 0.2 = 0.06. \n",
    "$$\n",
    "\n",
    "In other words, if we know that rainbow and rain occur in 6% of cases, and that rain falls in 20% of cases, the conditional probability of rainbow occurring when rain falls is \n",
    "\n",
    "$$\n",
    "P (A | B) = \\frac {P(A, B)}{P (B)} = \\frac{0.06}{0.2} = 0.3\n",
    "$$"
   ]
  },
  {
   "cell_type": "markdown",
   "id": "8705d608",
   "metadata": {},
   "source": [
    "Going through next example, we can see why Bayes is difficult, or it is only difficult to me. If you apply Bayes theorem to next problem you can see how it can be contraintuitive. \n",
    "\n",
    "One common ticklish example involves a family with two (unknown) children.\n",
    "Assuming that:\n",
    "\n",
    "1. Every child is equally likely to be a boy or a girl\n",
    "2. The sex of the second child is independent of the sex of the first child\n",
    "\n",
    "then the event \"no girl\" has a probability of 1/4, the event \"one girl, one boy\" has a probability\n",
    "1/2, and the \"two girls\" event is 1/4 probability.\n",
    "\n",
    "Now we can ask ourselves what is the probability of the event \"both children are girls\" (B) when we know that the \"older child is a girl\" (G)? Using the conditional probability definition:\n",
    "\n",
    "$$\n",
    "P (B|G) = \\frac {P (B, G)}{P (G)} = {P (B)}{P (G)} = \\frac{0.25}{0.5} = 1/2\n",
    "$$\n",
    "\n",
    "BUT, we could also ask about the probability of the event \"both children are girls\" at the event \"at least one of the children is a girl\" (L) i.e. if we already know that one child is a girl. P(L) = 0.75, becease the probability of having two boys is 0.25, while vice versa is that 0.75 is that at least one child is a girl. Surprisingly, the answer is different from before!\n",
    "As before, event B and L (\"both girls and at least one child is a girl\") is just event B. This means:\n",
    "\n",
    "$$\n",
    "P (B|L) = \\frac{P (B, L)}{P (L)} = \\frac{P (B)}{P (L)} = \\frac{0.25}{0.75} = 1/3\n",
    "$$\n",
    "\n",
    "How can this be the case? Well, if all you know is that he is at least one of the children\n",
    "girl, then it is twice as likely that the family has one boy and one girl than it has\n",
    "both girls.\n",
    "\n",
    "We will depict this with simulation:"
   ]
  },
  {
   "cell_type": "code",
   "execution_count": 1,
   "id": "8ec5a657",
   "metadata": {},
   "outputs": [
    {
     "name": "stdout",
     "output_type": "stream",
     "text": [
      "P(both_girls | older_girl): 0.501\n",
      "P(both_girls | at_leas_one_girl): 0.331\n"
     ]
    }
   ],
   "source": [
    "import random\n",
    "def random_child():\n",
    "    return random.choice([\"boy\", \"girl\"])\n",
    "\n",
    "both_girls = 0\n",
    "older_girl = 0\n",
    "at_leas_one_girl = 0\n",
    "\n",
    "random.seed(0)\n",
    "\n",
    "for _ in range(10000):\n",
    "    younger_child = random_child()\n",
    "    older_child = random_child()\n",
    "    if older_child == \"girl\":\n",
    "        older_girl += 1\n",
    "    if older_child == \"girl\" and younger_child == \"girl\":\n",
    "        both_girls += 1\n",
    "    if older_child == \"girl\" or younger_child == \"girl\":\n",
    "        at_leas_one_girl += 1\n",
    "print (\"P(both_girls | older_girl):\", round(both_girls/older_girl,3))\n",
    "print (\"P(both_girls | at_leas_one_girl):\", round(both_girls / at_leas_one_girl, 3))"
   ]
  },
  {
   "cell_type": "markdown",
   "id": "bee0a358",
   "metadata": {},
   "source": [
    "Bayes' theorem complements the conditional probability.\n",
    "We know that the conditional probability of B happening if A happened is:\n",
    "\n",
    "$$\n",
    "(1) P (A|B) = \\frac{P(A, B)}{P(B)} \n",
    "$$\n",
    "\n",
    "Bayes says: The conditional probability of A occurring when B occurs is equal in addition to comparing the frequency of occurrence of both events (P (A, B)) to the probability of occurrence of event B (P (B)), and the following:\n",
    "\n",
    "$$\n",
    "(2) P (A|B) = \\frac{P (B|A) * P (A)}{P (B)}\n",
    "$$\n",
    "\n",
    "This seems complicated but is essentially simple:\n",
    "\n",
    "$$\n",
    "(3) P (B | A) = \\frac{P (A, B)}{P (A)}\n",
    "$$\n",
    "\n",
    "Equation (3) can be transformed into $P (A, B) = P (B | A) * P (A)$ and can then be inserted into (1):\n",
    "\n",
    "$$\n",
    "P (A | B) = \\frac{P (B|A) * P (A)}{ P (B)}\n",
    "$$\n",
    "\n",
    "Which gives Bayes' theorem.\n",
    "\n",
    "\n",
    "$$\n",
    "P (A | B) = \\frac{P (B / A) xP (A)}{(P (B| A) * P (A) + P (B | ¬A) * P (¬A))}\n",
    "$$\n",
    "\n",
    "\n",
    "This last equation actually tells us \n",
    "\n",
    "$$\n",
    "P (B) = P (B | A) * P (A) + P (B | ¬A) * P (¬A)\n",
    "$$\n",
    "\n",
    "and that means that the probability event B is equal to the sum of conditional probabilities B of A when A occurs and when it does not occur (P (¬A))."
   ]
  },
  {
   "cell_type": "markdown",
   "id": "f6c2048e",
   "metadata": {},
   "source": [
    "### Modeling with pomegranate"
   ]
  },
  {
   "cell_type": "markdown",
   "id": "9032241b",
   "metadata": {},
   "source": [
    "Imagine you have model notificaton to Bank fraud. Bank fraud (event BF) happens with probability equal 0.001.\n",
    "But notification can also appear as error (event E) of the system with the probability of 0.002.\n",
    "\n",
    "You went to vacation.\n",
    "\n",
    "Notification will appear (N) if both events happen with probability of 99% and with 92% if only bank froad happens.\n",
    "Notification may react with 0.15 probability only if error hapens, and notification may rise with no reason with probability of 0.0001.\n",
    "\n",
    "Your colleauge, Johnatan (J), does never call you (99.9% of the time), but will call you he sees the notification (he may be out of house with probability of 0.1).\n",
    "\n",
    "Another colleauge, Maggy (M) may call you to talk with probability 0.1 and out of home 30% of her time (but she will see the notification and will call you if she is home).\n",
    "\n",
    "What is the probability Maggy will call you if the Bank fraud happens?"
   ]
  },
  {
   "cell_type": "code",
   "execution_count": 2,
   "id": "1b923a61",
   "metadata": {},
   "outputs": [],
   "source": [
    "import pomegranate as pg"
   ]
  },
  {
   "cell_type": "code",
   "execution_count": 53,
   "id": "ffb9c583",
   "metadata": {},
   "outputs": [],
   "source": [
    "# define events\n",
    "bank_fraud = pg.DiscreteDistribution({\n",
    "    'BF': 0.001,\n",
    "    '-BF': 0.999\n",
    "})\n",
    "\n",
    "error = pg.DiscreteDistribution({\n",
    "    'E': 0.002,\n",
    "    '-E': 0.998\n",
    "})\n",
    "\n",
    "#This is class for conditional probability, here we model conditional probabilities for each combination of events\n",
    "notification = pg.ConditionalProbabilityTable(\n",
    "    [\n",
    "        ['BF', 'E', 'N', 0.99],\n",
    "        ['BF', 'E', '-N', 0.01],\n",
    "        \n",
    "        ['BF', '-E', 'N', 0.92],\n",
    "        ['BF', '-E', '-N', 0.08],\n",
    "        \n",
    "        ['-BF', 'E', 'N', 0.15],\n",
    "        ['-BF', 'E', '-N', 0.85],\n",
    "        \n",
    "        ['-BF', '-E', 'N', 0.0001],\n",
    "        ['-BF', '-E', '-N', 0.9999],\n",
    "    ], \n",
    "        [bank_fraud, error]\n",
    ")\n",
    "\n",
    "johnatan = pg.ConditionalProbabilityTable(\n",
    "    [\n",
    "        ['N', 'J', 0.9],\n",
    "        ['N', '-J', 0.1],\n",
    "        \n",
    "        ['-N', 'J', 0.001],\n",
    "        ['-N', '-J', 0.999],\n",
    "    ], [notification]\n",
    ")\n",
    "\n",
    "maggy = pg.ConditionalProbabilityTable(\n",
    "    [\n",
    "        ['N', 'M', 0.70],\n",
    "        ['N', '-M', 0.30],\n",
    "        \n",
    "        ['-N', 'M', 0.1],\n",
    "        ['-N', '-M', 0.9],\n",
    "    ], [notification]\n",
    ")"
   ]
  },
  {
   "cell_type": "code",
   "execution_count": 54,
   "id": "7fe2b614",
   "metadata": {},
   "outputs": [],
   "source": [
    "# define a Bayes Net\n",
    "bank_fraud = pg.State(bank_fraud, 'BF')\n",
    "\n",
    "error = pg.State(error, 'E')\n",
    "\n",
    "notification = pg.State(notification, 'N')\n",
    "\n",
    "johnatan = pg.State(johnatan, 'J')\n",
    "\n",
    "maggy = pg.State(maggy, 'M')\n",
    "\n",
    "\n",
    "model = pg.BayesianNetwork(\"Bank Fraud\")\n",
    "\n",
    "# Add the states to the network \n",
    "model.add_states(bank_fraud, error, notification, johnatan, maggy)\n",
    "\n",
    "# Add the adges\n",
    "model.add_edge(bank_fraud, notification)\n",
    "model.add_edge(error, notification)\n",
    "\n",
    "model.add_edge(notification, johnatan)\n",
    "model.add_edge(notification, maggy)\n",
    "\n",
    "model.bake()"
   ]
  },
  {
   "cell_type": "code",
   "execution_count": 80,
   "id": "1daaba02",
   "metadata": {},
   "outputs": [
    {
     "name": "stdout",
     "output_type": "stream",
     "text": [
      "================================================================================\n",
      "{\n",
      "    \"class\" : \"Distribution\",\n",
      "    \"dtype\" : \"str\",\n",
      "    \"name\" : \"DiscreteDistribution\",\n",
      "    \"parameters\" : [\n",
      "        {\n",
      "            \"BF\" : 0.001000000000000443,\n",
      "            \"-BF\" : 0.9989999999999996\n",
      "        }\n",
      "    ],\n",
      "    \"frozen\" : false\n",
      "}\n",
      "================================================================================\n",
      "================================================================================\n",
      "E\n",
      "================================================================================\n",
      "================================================================================\n",
      "{\n",
      "    \"class\" : \"Distribution\",\n",
      "    \"dtype\" : \"str\",\n",
      "    \"name\" : \"DiscreteDistribution\",\n",
      "    \"parameters\" : [\n",
      "        {\n",
      "            \"-N\" : 0.8491599999999995,\n",
      "            \"N\" : 0.15084000000000058\n",
      "        }\n",
      "    ],\n",
      "    \"frozen\" : false\n",
      "}\n",
      "================================================================================\n",
      "================================================================================\n",
      "{\n",
      "    \"class\" : \"Distribution\",\n",
      "    \"dtype\" : \"str\",\n",
      "    \"name\" : \"DiscreteDistribution\",\n",
      "    \"parameters\" : [\n",
      "        {\n",
      "            \"J\" : 0.1366051600000005,\n",
      "            \"-J\" : 0.8633948399999994\n",
      "        }\n",
      "    ],\n",
      "    \"frozen\" : false\n",
      "}\n",
      "================================================================================\n",
      "================================================================================\n",
      "{\n",
      "    \"class\" : \"Distribution\",\n",
      "    \"dtype\" : \"str\",\n",
      "    \"name\" : \"DiscreteDistribution\",\n",
      "    \"parameters\" : [\n",
      "        {\n",
      "            \"M\" : 0.19050400000000042,\n",
      "            \"-M\" : 0.8094959999999995\n",
      "        }\n",
      "    ],\n",
      "    \"frozen\" : false\n",
      "}\n",
      "================================================================================\n"
     ]
    }
   ],
   "source": [
    "# Calculate the posterior P(M|D) for data.\n",
    "#  Calculate the probability of each item having been generated from each component in the model. \n",
    "# This returns normalized probabilities such that each row should sum to 1.\n",
    "for prob in model.predict_proba([[None, 'E', None, None, None]])[0]:\n",
    "    print(40*'==')\n",
    "    print(prob)\n",
    "    print(40*'==')"
   ]
  },
  {
   "cell_type": "code",
   "execution_count": 72,
   "id": "077cfdec",
   "metadata": {},
   "outputs": [
    {
     "data": {
      "text/plain": [
       "[array(['-BF', 'E', '-N', '-J', '-M'], dtype=object)]"
      ]
     },
     "execution_count": 72,
     "metadata": {},
     "output_type": "execute_result"
    }
   ],
   "source": [
    "#Bayesian networks are frequently used to infer/impute the value of missing variables given the observed values. \n",
    "#In other models, typically there is either a single or fixed set of missing variables, such as latent factors, \n",
    "#that need to be imputed, and so returning a fixed vector or matrix as the predictions makes sense. \n",
    "#However, in the case of Bayesian networks, we can make no such assumptions, \n",
    "#and so when data is passed in for prediction it should be in the format as a matrix with None in \n",
    "#the missing variables that need to be inferred. The return is thus a filled in matrix where the Nones \n",
    "#have been replaced with the imputed values. \n",
    "model.predict([[None, 'E', None, None, None]]) # when error happens the most probable response of the system that nothing will happen"
   ]
  },
  {
   "cell_type": "code",
   "execution_count": 81,
   "id": "8f822e91",
   "metadata": {},
   "outputs": [
    {
     "data": {
      "text/plain": [
       "[array(['BF', '-E', 'N', 'J', 'M'], dtype=object)]"
      ]
     },
     "execution_count": 81,
     "metadata": {},
     "output_type": "execute_result"
    }
   ],
   "source": [
    "model.predict([['BF', None, None, None, None]]) #when real bank fraud happens..."
   ]
  },
  {
   "cell_type": "code",
   "execution_count": null,
   "id": "a6c559ab",
   "metadata": {},
   "outputs": [],
   "source": [
    "#... it is the most probable that it is not an error and that we will receive the notification and that we will be called by our collages"
   ]
  },
  {
   "cell_type": "code",
   "execution_count": 82,
   "id": "d272c605",
   "metadata": {},
   "outputs": [
    {
     "data": {
      "text/plain": [
       "[array(['-BF', '-E', '-N', '-J', 'M'], dtype=object)]"
      ]
     },
     "execution_count": 82,
     "metadata": {},
     "output_type": "execute_result"
    }
   ],
   "source": [
    "# What if Maggie just called us:\n",
    "model.predict([[None, None, None, None, 'M']]) # maybe she just wants to talk a little bit, but if Johnatan and Maggie calls us it probably means it is a bank fraud"
   ]
  },
  {
   "cell_type": "code",
   "execution_count": 85,
   "id": "8de3e355",
   "metadata": {},
   "outputs": [
    {
     "data": {
      "text/plain": [
       "[array(['BF', '-E', 'N', 'J', 'M'], dtype=object)]"
      ]
     },
     "execution_count": 85,
     "metadata": {},
     "output_type": "execute_result"
    }
   ],
   "source": [
    "model.predict([[None, None, None, 'J', 'M']])"
   ]
  }
 ],
 "metadata": {
  "kernelspec": {
   "display_name": "Python 3 (ipykernel)",
   "language": "python",
   "name": "python3"
  },
  "language_info": {
   "codemirror_mode": {
    "name": "ipython",
    "version": 3
   },
   "file_extension": ".py",
   "mimetype": "text/x-python",
   "name": "python",
   "nbconvert_exporter": "python",
   "pygments_lexer": "ipython3",
   "version": "3.8.5"
  }
 },
 "nbformat": 4,
 "nbformat_minor": 5
}
