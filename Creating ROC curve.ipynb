{
 "cells": [
  {
   "cell_type": "markdown",
   "id": "4eccab22",
   "metadata": {},
   "source": [
    "## Code for ROC curve\n",
    "Receiver Operating Characteristics (ROC) curve gives us the estimation for model performance based on comparing true positive and false positive rate for various tresholds of our binary target variable."
   ]
  },
  {
   "cell_type": "code",
   "execution_count": 1,
   "id": "e1a9faba",
   "metadata": {},
   "outputs": [],
   "source": [
    "import numpy as np\n",
    "import matplotlib.pyplot as plt"
   ]
  },
  {
   "cell_type": "code",
   "execution_count": 2,
   "id": "4599f94a",
   "metadata": {},
   "outputs": [],
   "source": [
    "# we will create some random but imbalanced data\n",
    "np.random.seed(123)\n",
    "y_real = np.random.choice([0,1], 300, p=[0.9, 0.1])"
   ]
  },
  {
   "cell_type": "code",
   "execution_count": 3,
   "id": "6af588ac",
   "metadata": {},
   "outputs": [],
   "source": [
    "# we will create fake prediction that will be very bad, using uniform distribution\n",
    "y_pred = np.random.uniform(0,1,300)"
   ]
  },
  {
   "cell_type": "code",
   "execution_count": 4,
   "id": "f189f741",
   "metadata": {},
   "outputs": [],
   "source": [
    "# we are creating function that transforms the predicted values to the binary outcome according to treshold\n",
    "def binarize(y_hat, threshold):\n",
    "    return (y_hat > threshold).astype(int)"
   ]
  },
  {
   "cell_type": "code",
   "execution_count": 5,
   "id": "518674ce",
   "metadata": {},
   "outputs": [],
   "source": [
    "def calculate_fpr_tpr(y_real, y_pred_cat, treshold):\n",
    "    \n",
    "    positive_indexes=np.where(y_real==1)\n",
    "    negative_indexes = np.where(y_real==0)\n",
    "    \n",
    "    tp = np.sum(y_real[positive_indexes]==y_pred_cat[positive_indexes])\n",
    "    tn = np.sum(y_real[negative_indexes]==y_pred_cat[negative_indexes])\n",
    "    \n",
    "    fp = np.sum(y_real[negative_indexes]!=y_pred_cat[negative_indexes])\n",
    "    fn = np.sum(y_real[positive_indexes]!=y_pred_cat[positive_indexes])\n",
    "    \n",
    "    tpr = tp/(fn+tp)\n",
    "    fpr = fp/(fp+tn)\n",
    "    \n",
    "    \n",
    "    return tpr, fpr\n",
    "    "
   ]
  },
  {
   "cell_type": "code",
   "execution_count": 6,
   "id": "c969412c",
   "metadata": {},
   "outputs": [],
   "source": [
    "def plotting_ROC(y_real, y_pred):\n",
    "    tresholds = np.arange(0, 1, 0.01)\n",
    "    tp_rates = []\n",
    "    fp_rates = []\n",
    "    for treshold in tresholds:\n",
    "        y_pred_cat = binarize(y_pred, treshold)\n",
    "        \n",
    "        tpr, fpr = calculate_fpr_tpr(y_real, y_pred_cat, treshold)\n",
    "        \n",
    "        tp_rates.append(tpr)\n",
    "        fp_rates.append(fpr)\n",
    "    \n",
    "    plt.figure(figsize=(4,4))\n",
    "    plt.xlabel('False positive rate')\n",
    "    plt.ylabel('True positive rate')\n",
    "    plt.plot(fp_rates, tp_rates, 'k--', color = 'red')\n",
    "    plt.plot([0,1], [0,1], 'k--')\n",
    "    \n",
    "    \n",
    "    return tp_rates, fp_rates\n",
    "        "
   ]
  },
  {
   "cell_type": "code",
   "execution_count": 7,
   "id": "b2f9144c",
   "metadata": {
    "scrolled": true
   },
   "outputs": [
    {
     "data": {
      "image/png": "[encoded data removed]",
      "text/plain": [
       "<Figure size 288x288 with 1 Axes>"
      ]
     },
     "metadata": {
      "needs_background": "light"
     },
     "output_type": "display_data"
    }
   ],
   "source": [
    "true_positive_rates, false_positive_rates = plotting_ROC(y_real, y_pred)"
   ]
  },
  {
   "cell_type": "code",
   "execution_count": 8,
   "id": "0ff87266",
   "metadata": {},
   "outputs": [],
   "source": [
    "def auc(false_positive_rates, true_positive_rates):\n",
    "    y = np.asanyarray(true_positive_rates)\n",
    "    x = np.asanyarray(false_positive_rates)\n",
    "    widths = np.abs(np.diff(x))\n",
    "    heights = (y[1:] + y[:-1]) / 2.0\n",
    "    area = (widths * heights).sum()\n",
    "    return area"
   ]
  },
  {
   "cell_type": "code",
   "execution_count": 9,
   "id": "14e70db1",
   "metadata": {},
   "outputs": [
    {
     "name": "stdout",
     "output_type": "stream",
     "text": [
      "Area under curve:  0.48\n"
     ]
    }
   ],
   "source": [
    "print('Area under curve: ',round(auc(false_positive_rates, true_positive_rates), 2))"
   ]
  },
  {
   "cell_type": "markdown",
   "id": "33572da4",
   "metadata": {},
   "source": [
    "### Good model"
   ]
  },
  {
   "cell_type": "code",
   "execution_count": 10,
   "id": "2bed2ec3",
   "metadata": {},
   "outputs": [],
   "source": [
    "# Now we will make better model which will have better auc to test our function with famous iris dataset\n",
    "from sklearn.datasets import load_iris\n",
    "from sklearn.model_selection import train_test_split\n",
    "import pandas as pd\n",
    "import numpy as np\n",
    "from sklearn.linear_model import LogisticRegression"
   ]
  },
  {
   "cell_type": "code",
   "execution_count": 11,
   "id": "0a2c82d6",
   "metadata": {},
   "outputs": [],
   "source": [
    "iris = load_iris(as_frame=True)\n",
    "iris = pd.DataFrame(data= np.c_[iris['data'], iris['target']],\n",
    "                     columns= iris['feature_names'] + ['target'])\n",
    "iris= iris[(iris['target']==0) | (iris['target']==1)] # we will work only with binary target to test our code"
   ]
  },
  {
   "cell_type": "code",
   "execution_count": 12,
   "id": "65804f3f",
   "metadata": {},
   "outputs": [],
   "source": [
    "y = iris['target'].to_numpy()\n",
    "X = iris[['sepal length (cm)', 'sepal width (cm)', 'petal length (cm)',\n",
    "       'petal width (cm)',]].to_numpy()"
   ]
  },
  {
   "cell_type": "code",
   "execution_count": 13,
   "id": "2f2a1b51",
   "metadata": {},
   "outputs": [],
   "source": [
    "X_train, X_test, y_train, y_test = train_test_split(X, y, test_size=0.33, random_state=42)"
   ]
  },
  {
   "cell_type": "code",
   "execution_count": 14,
   "id": "8cef7cec",
   "metadata": {},
   "outputs": [],
   "source": [
    "logit_model = LogisticRegression(random_state=0).fit(X_train, y_train)"
   ]
  },
  {
   "cell_type": "code",
   "execution_count": 15,
   "id": "84854716",
   "metadata": {},
   "outputs": [],
   "source": [
    "y_pred = logit_model.predict_proba(X_test)\n",
    "y_pred = np.asarray([i[1] for i in y_pred])"
   ]
  },
  {
   "cell_type": "code",
   "execution_count": 16,
   "id": "5109e451",
   "metadata": {
    "scrolled": true
   },
   "outputs": [
    {
     "data": {
      "image/png": "[encoded data removed]",
      "text/plain": [
       "<Figure size 288x288 with 1 Axes>"
      ]
     },
     "metadata": {
      "needs_background": "light"
     },
     "output_type": "display_data"
    }
   ],
   "source": [
    "true_positive_rates_good, false_positive_rates_good = plotting_ROC(y_test, y_pred)"
   ]
  },
  {
   "cell_type": "code",
   "execution_count": 17,
   "id": "956b5a86",
   "metadata": {},
   "outputs": [
    {
     "name": "stdout",
     "output_type": "stream",
     "text": [
      "Area under curve:  1.0\n"
     ]
    }
   ],
   "source": [
    "print('Area under curve: ',round(auc(false_positive_rates_good, true_positive_rates_good), 2))"
   ]
  }
 ],
 "metadata": {
  "kernelspec": {
   "display_name": "Python 3",
   "language": "python",
   "name": "python3"
  },
  "language_info": {
   "codemirror_mode": {
    "name": "ipython",
    "version": 3
   },
   "file_extension": ".py",
   "mimetype": "text/x-python",
   "name": "python",
   "nbconvert_exporter": "python",
   "pygments_lexer": "ipython3",
   "version": "3.8.5"
  }
 },
 "nbformat": 4,
 "nbformat_minor": 5
}
